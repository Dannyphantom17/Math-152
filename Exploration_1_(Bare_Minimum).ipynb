{
  "nbformat": 4,
  "nbformat_minor": 0,
  "metadata": {
    "colab": {
      "name": "Exploration 1 (Bare Minimum).ipynb",
      "provenance": [],
      "collapsed_sections": [],
      "include_colab_link": true
    },
    "kernelspec": {
      "name": "python3",
      "display_name": "Python 3"
    },
    "language_info": {
      "name": "python"
    }
  },
  "cells": [
    {
      "cell_type": "markdown",
      "metadata": {
        "id": "view-in-github",
        "colab_type": "text"
      },
      "source": [
        "<a href=\"https://colab.research.google.com/github/Dannyphantom17/Math-152/blob/main/Exploration_1_(Bare_Minimum).ipynb\" target=\"_parent\"><img src=\"https://colab.research.google.com/assets/colab-badge.svg\" alt=\"Open In Colab\"/></a>"
      ]
    },
    {
      "cell_type": "markdown",
      "source": [
        "## Explortation 1 (Project 2: Epidemiology models)\n",
        "We simulate the spread of disease using the SIR model and explore the changes one might observe upon varying the constants."
      ],
      "metadata": {
        "id": "eTOiJa-ZPjQ8"
      }
    },
    {
      "cell_type": "code",
      "execution_count": null,
      "metadata": {
        "id": "QAsfsA6dPgir"
      },
      "outputs": [],
      "source": [
        "a = 2"
      ]
    },
    {
      "cell_type": "markdown",
      "source": [
        "Can you see this?"
      ],
      "metadata": {
        "id": "gXZpZ9BYRtHu"
      }
    },
    {
      "cell_type": "code",
      "source": [
        ""
      ],
      "metadata": {
        "id": "7jDqyjt1RuWv"
      },
      "execution_count": null,
      "outputs": []
    }
  ]
}